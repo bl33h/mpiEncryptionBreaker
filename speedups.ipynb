{
 "cells": [
  {
   "cell_type": "markdown",
   "metadata": {},
   "source": [
    "# Cálculos de speedups y eficiencia"
   ]
  },
  {
   "cell_type": "code",
   "execution_count": 1,
   "metadata": {},
   "outputs": [],
   "source": [
    "# libraries\n",
    "import pandas as pd\n",
    "import pandas as pd\n",
    "from IPython.display import display, HTML"
   ]
  },
  {
   "cell_type": "code",
   "execution_count": 2,
   "metadata": {},
   "outputs": [],
   "source": [
    "# display of result tables\n",
    "def display_table(name, dataframe):\n",
    "    title_html = f\"<h2>{name}</h2>\"\n",
    "    display(HTML(title_html))\n",
    "    display(dataframe)"
   ]
  },
  {
   "cell_type": "markdown",
   "metadata": {},
   "source": [
    "## Cálculo de Speedups\n",
    "### Bruteforce y ambos acercamientos"
   ]
  },
  {
   "cell_type": "code",
   "execution_count": 3,
   "metadata": {},
   "outputs": [
    {
     "data": {
      "text/html": [
       "<h2>Speedups Table</h2>"
      ],
      "text/plain": [
       "<IPython.core.display.HTML object>"
      ]
     },
     "metadata": {},
     "output_type": "display_data"
    },
    {
     "data": {
      "text/html": [
       "<div>\n",
       "<style scoped>\n",
       "    .dataframe tbody tr th:only-of-type {\n",
       "        vertical-align: middle;\n",
       "    }\n",
       "\n",
       "    .dataframe tbody tr th {\n",
       "        vertical-align: top;\n",
       "    }\n",
       "\n",
       "    .dataframe thead th {\n",
       "        text-align: right;\n",
       "    }\n",
       "</style>\n",
       "<table border=\"1\" class=\"dataframe\">\n",
       "  <thead>\n",
       "    <tr style=\"text-align: right;\">\n",
       "      <th></th>\n",
       "      <th>Speedup Approach 1</th>\n",
       "      <th>Speedup Approach 2</th>\n",
       "    </tr>\n",
       "  </thead>\n",
       "  <tbody>\n",
       "    <tr>\n",
       "      <th>123456</th>\n",
       "      <td>0.750000</td>\n",
       "      <td>0.363636</td>\n",
       "    </tr>\n",
       "    <tr>\n",
       "      <th>987654</th>\n",
       "      <td>0.698529</td>\n",
       "      <td>0.336879</td>\n",
       "    </tr>\n",
       "    <tr>\n",
       "      <th>9876547</th>\n",
       "      <td>0.600250</td>\n",
       "      <td>1.318900</td>\n",
       "    </tr>\n",
       "    <tr>\n",
       "      <th>98965471</th>\n",
       "      <td>0.609442</td>\n",
       "      <td>0.270942</td>\n",
       "    </tr>\n",
       "  </tbody>\n",
       "</table>\n",
       "</div>"
      ],
      "text/plain": [
       "          Speedup Approach 1  Speedup Approach 2\n",
       "123456              0.750000            0.363636\n",
       "987654              0.698529            0.336879\n",
       "9876547             0.600250            1.318900\n",
       "98965471            0.609442            0.270942"
      ]
     },
     "metadata": {},
     "output_type": "display_data"
    }
   ],
   "source": [
    "# format: (brute force time, approach 1 time, approach 2 time)\n",
    "execution_times = {\n",
    "    \"42\": (0.00, 0.00, 0.00),\n",
    "    \"123456\": (0.12, 0.16, 0.33),\n",
    "    \"987654\": (0.95, 1.36, 2.82),\n",
    "    \"9876547\": (19.19, 31.97, 14.55),\n",
    "    \"98965471\": (102.24, 167.76, 377.35)\n",
    "}\n",
    "\n",
    "speedups = {}\n",
    "\n",
    "# calculate speedups\n",
    "for key, (naive, approach1, approach2) in execution_times.items():\n",
    "    if naive != 0.0:\n",
    "        speedup_approach1 = naive / approach1\n",
    "        speedup_approach2 = naive / approach2\n",
    "\n",
    "        # store the speedups\n",
    "        speedups[key] = (speedup_approach1, speedup_approach2)\n",
    "\n",
    "# dataframe for speedups\n",
    "speedup_df = pd.DataFrame(speedups, index=[\"Speedup Approach 1\", \"Speedup Approach 2\"]).T\n",
    "\n",
    "display_table(name=\"Speedups Table\", dataframe=speedup_df)"
   ]
  },
  {
   "cell_type": "markdown",
   "metadata": {},
   "source": [
    "## Cálculo de Speedups\n",
    "### Naive y ambos acercamientos"
   ]
  },
  {
   "cell_type": "code",
   "execution_count": 4,
   "metadata": {},
   "outputs": [
    {
     "data": {
      "text/html": [
       "<h2>Speedups Table</h2>"
      ],
      "text/plain": [
       "<IPython.core.display.HTML object>"
      ]
     },
     "metadata": {},
     "output_type": "display_data"
    },
    {
     "data": {
      "text/html": [
       "<div>\n",
       "<style scoped>\n",
       "    .dataframe tbody tr th:only-of-type {\n",
       "        vertical-align: middle;\n",
       "    }\n",
       "\n",
       "    .dataframe tbody tr th {\n",
       "        vertical-align: top;\n",
       "    }\n",
       "\n",
       "    .dataframe thead th {\n",
       "        text-align: right;\n",
       "    }\n",
       "</style>\n",
       "<table border=\"1\" class=\"dataframe\">\n",
       "  <thead>\n",
       "    <tr style=\"text-align: right;\">\n",
       "      <th></th>\n",
       "      <th>Speedup Approach 1</th>\n",
       "      <th>Speedup Approach 2</th>\n",
       "    </tr>\n",
       "  </thead>\n",
       "  <tbody>\n",
       "    <tr>\n",
       "      <th>123456</th>\n",
       "      <td>0.750000</td>\n",
       "      <td>0.363636</td>\n",
       "    </tr>\n",
       "    <tr>\n",
       "      <th>987654</th>\n",
       "      <td>0.669118</td>\n",
       "      <td>0.322695</td>\n",
       "    </tr>\n",
       "    <tr>\n",
       "      <th>9876547</th>\n",
       "      <td>0.287457</td>\n",
       "      <td>0.631615</td>\n",
       "    </tr>\n",
       "    <tr>\n",
       "      <th>98965471</th>\n",
       "      <td>0.585837</td>\n",
       "      <td>0.260448</td>\n",
       "    </tr>\n",
       "  </tbody>\n",
       "</table>\n",
       "</div>"
      ],
      "text/plain": [
       "          Speedup Approach 1  Speedup Approach 2\n",
       "123456              0.750000            0.363636\n",
       "987654              0.669118            0.322695\n",
       "9876547             0.287457            0.631615\n",
       "98965471            0.585837            0.260448"
      ]
     },
     "metadata": {},
     "output_type": "display_data"
    }
   ],
   "source": [
    "# format: (naive time, approach 1 time, approach 2 time)\n",
    "execution_times = {\n",
    "    \"42\": (0.00, 0.00, 0.00),\n",
    "    \"123456\": (0.12, 0.16, 0.33),\n",
    "    \"987654\": (0.91, 1.36, 2.82),\n",
    "    \"9876547\": (9.19, 31.97, 14.55),\n",
    "    \"98965471\": (98.28, 167.76, 377.35)\n",
    "}\n",
    "\n",
    "speedups = {}\n",
    "\n",
    "# calculate speedups\n",
    "for key, (naive, approach1, approach2) in execution_times.items():\n",
    "    if naive != 0.0:\n",
    "        speedup_approach1 = naive / approach1\n",
    "        speedup_approach2 = naive / approach2\n",
    "\n",
    "        # store the speedups\n",
    "        speedups[key] = (speedup_approach1, speedup_approach2)\n",
    "\n",
    "# dataframe for speedups\n",
    "speedup_df = pd.DataFrame(speedups, index=[\"Speedup Approach 1\", \"Speedup Approach 2\"]).T\n",
    "\n",
    "display_table(name=\"Speedups Table\", dataframe=speedup_df)"
   ]
  },
  {
   "cell_type": "markdown",
   "metadata": {},
   "source": [
    "## Cálculo de eficiencia"
   ]
  },
  {
   "cell_type": "code",
   "execution_count": 5,
   "metadata": {},
   "outputs": [
    {
     "data": {
      "text/html": [
       "<h2>Efficiencies Table</h2>"
      ],
      "text/plain": [
       "<IPython.core.display.HTML object>"
      ]
     },
     "metadata": {},
     "output_type": "display_data"
    },
    {
     "data": {
      "text/html": [
       "<div>\n",
       "<style scoped>\n",
       "    .dataframe tbody tr th:only-of-type {\n",
       "        vertical-align: middle;\n",
       "    }\n",
       "\n",
       "    .dataframe tbody tr th {\n",
       "        vertical-align: top;\n",
       "    }\n",
       "\n",
       "    .dataframe thead th {\n",
       "        text-align: right;\n",
       "    }\n",
       "</style>\n",
       "<table border=\"1\" class=\"dataframe\">\n",
       "  <thead>\n",
       "    <tr style=\"text-align: right;\">\n",
       "      <th></th>\n",
       "      <th>Efficiency Approach 1</th>\n",
       "      <th>Efficiency Approach 2</th>\n",
       "    </tr>\n",
       "  </thead>\n",
       "  <tbody>\n",
       "    <tr>\n",
       "      <th>np 2</th>\n",
       "      <td>0.433333</td>\n",
       "      <td>0.433333</td>\n",
       "    </tr>\n",
       "    <tr>\n",
       "      <th>np 3</th>\n",
       "      <td>0.222222</td>\n",
       "      <td>0.100000</td>\n",
       "    </tr>\n",
       "    <tr>\n",
       "      <th>np 4</th>\n",
       "      <td>0.161765</td>\n",
       "      <td>0.080882</td>\n",
       "    </tr>\n",
       "  </tbody>\n",
       "</table>\n",
       "</div>"
      ],
      "text/plain": [
       "      Efficiency Approach 1  Efficiency Approach 2\n",
       "np 2               0.433333               0.433333\n",
       "np 3               0.222222               0.100000\n",
       "np 4               0.161765               0.080882"
      ]
     },
     "metadata": {},
     "output_type": "display_data"
    }
   ],
   "source": [
    "# format: (naive time, approach 1 time, approach 2 time)\n",
    "execution_times_with_processes = {\n",
    "    \"np 2\": (0.13, 0.15, 0.15, 2),\n",
    "    \"np 3\": (0.12, 0.18, 0.40, 3),\n",
    "    \"np 4\": (0.11, 0.17, 0.34, 4),\n",
    "}\n",
    "\n",
    "efficiencies = {}\n",
    "\n",
    "# calculate the speedups and then the efficiency\n",
    "for key, (naive, approach1, approach2, processes) in execution_times_with_processes.items():\n",
    "    if naive != 0.0:\n",
    "        speedup_approach1 = naive / approach1\n",
    "        speedup_approach2 = naive / approach2\n",
    "        efficiency_approach1 = speedup_approach1 / processes\n",
    "        efficiency_approach2 = speedup_approach2 / processes\n",
    "        efficiencies[key] = (efficiency_approach1, efficiency_approach2)\n",
    "\n",
    "# dataframe for efficiencies\n",
    "efficiency_df = pd.DataFrame(efficiencies, index=[\"Efficiency Approach 1\", \"Efficiency Approach 2\"]).T\n",
    "\n",
    "display_table(name=\"Efficiencies Table\", dataframe=efficiency_df)"
   ]
  },
  {
   "cell_type": "markdown",
   "metadata": {},
   "source": [
    "## Análisis de resultados\n",
    "Los resultados obtenidos muestran que el speedup logrado no es lineal, lo que indica que los recursos de paralelización no están siendo completamente aprovechados. Por ejemplo, con 2 procesos, el speedup en el enfoque 1 fue de 0.75, mientras que en el enfoque 2 fue de 0.36, lo que está muy por debajo del ideal. Esto sugiere que factores como la sobrecarga de comunicación y la carga no equilibrada entre procesos están afectando el rendimiento.\n",
    "\n",
    "La eficiencia, que mide el uso efectivo de los procesadores, disminuye a medida que se incrementa el número de procesos. En la configuración de 4 procesos, la eficiencia cayó a 0.16 y 0.08 para los enfoques 1 y 2, respectivamente. Esto es consistente con la Ley de Amdahl, que establece que una porción secuencial del programa limita el rendimiento conforme se agregan más procesos.\n",
    "\n",
    "En el contexto del proyecto de descifrado de claves con MPI, este comportamiento puede explicarse por la naturaleza de la búsqueda por fuerza bruta. Si la clave se encuentra en una sección del espacio de búsqueda asignada a un proceso específico, los demás procesos no contribuyen de manera significativa, afectando el speedup global."
   ]
  }
 ],
 "metadata": {
  "kernelspec": {
   "display_name": "Python 3",
   "language": "python",
   "name": "python3"
  },
  "language_info": {
   "codemirror_mode": {
    "name": "ipython",
    "version": 3
   },
   "file_extension": ".py",
   "mimetype": "text/x-python",
   "name": "python",
   "nbconvert_exporter": "python",
   "pygments_lexer": "ipython3",
   "version": "3.11.10"
  }
 },
 "nbformat": 4,
 "nbformat_minor": 2
}
